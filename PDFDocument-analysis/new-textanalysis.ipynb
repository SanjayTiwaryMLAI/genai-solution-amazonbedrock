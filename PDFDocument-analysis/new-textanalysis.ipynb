{
 "cells": [
  {
   "cell_type": "code",
   "execution_count": 1,
   "metadata": {},
   "outputs": [],
   "source": [
    "from basefunction import detect_entity, claudemodel\n",
    "from textwrap import wrap"
   ]
  },
  {
   "cell_type": "markdown",
   "metadata": {},
   "source": [
    "## Task- Summerisation"
   ]
  },
  {
   "cell_type": "markdown",
   "metadata": {},
   "source": []
  },
  {
   "cell_type": "code",
   "execution_count": 2,
   "metadata": {},
   "outputs": [],
   "source": [
    "question = \"what is area of rectangle given length equal to 10 meter and width equal to 5 meter\""
   ]
  },
  {
   "cell_type": "code",
   "execution_count": 3,
   "metadata": {},
   "outputs": [],
   "source": [
    "prompt = \"what create a python function for calulation for the problem statement\""
   ]
  },
  {
   "cell_type": "code",
   "execution_count": 4,
   "metadata": {},
   "outputs": [],
   "source": [
    "question1 = prompt + question"
   ]
  },
  {
   "cell_type": "code",
   "execution_count": 20,
   "metadata": {},
   "outputs": [
    {
     "name": "stdout",
     "output_type": "stream",
     "text": [
      " Here is a Python function to calculate the area of a rectangle given the length and width:\n",
      "\n",
      "```python\n",
      "def calculate_rectangle_area(length, width):\n",
      "  area = length * width\n",
      "  return area\n",
      "\n",
      "length = 10 \n",
      "width = 5\n",
      "area = calculate_rectangle_area(length, width)\n",
      "print(\"The area of a rectangle with length\", length, \"and width\", width, \"is\", area)\n",
      "```\n",
      "\n",
      "The key steps are:\n",
      "\n",
      "1. Define a function called `calculate_rectangle_area` that takes `length` and `width` as parameters. \n",
      "\n",
      "2. Inside the function, calculate the area by multiplying length * width. \n",
      "\n",
      "3. Return the calculated area.\n",
      "\n",
      "4. Define the length and width variables. \n",
      "\n",
      "5. Call the function, passing length and width. \n",
      "\n",
      "6. Print the results.\n",
      "\n",
      "So this function takes the length and width, calculates the area, and returns it so you can use the result.\n"
     ]
    }
   ],
   "source": [
    "response1 = claudemodel(question1, 300, 0)"
   ]
  },
  {
   "cell_type": "code",
   "execution_count": 21,
   "metadata": {},
   "outputs": [
    {
     "name": "stdout",
     "output_type": "stream",
     "text": [
      " Here is a Python function to calculate the area of a rectangle given the length and width:\n",
      "\n",
      "```python\n",
      "def calculate_rectangle_area(length, width):\n",
      "  area = length * width\n",
      "  return area\n",
      "\n",
      "length = 10 \n",
      "width = 5\n",
      "area = calculate_rectangle_area(length, width)\n",
      "print(\"The area of a rectangle with length\", length, \"and width\", width, \"is\", area)\n",
      "```\n",
      "\n",
      "The key steps are:\n",
      "\n",
      "1. Define a function called `calculate_rectangle_area` that takes `length` and `width` as parameters. \n",
      "\n",
      "2. Inside the function, calculate the area by multiplying length * width. \n",
      "\n",
      "3. Return the calculated area.\n",
      "\n",
      "4. Define the length and width variables. \n",
      "\n",
      "5. Call the function, passing length and width. \n",
      "\n",
      "6. Print the results.\n",
      "\n",
      "So this function takes the length and width, calculates the area, and returns it so you can use the result.\n"
     ]
    }
   ],
   "source": [
    "print(response1)\n"
   ]
  },
  {
   "cell_type": "code",
   "execution_count": 31,
   "metadata": {},
   "outputs": [],
   "source": [
    "text = response1"
   ]
  },
  {
   "cell_type": "code",
   "execution_count": 33,
   "metadata": {},
   "outputs": [],
   "source": [
    "import re"
   ]
  },
  {
   "cell_type": "code",
   "execution_count": 34,
   "metadata": {},
   "outputs": [
    {
     "name": "stdout",
     "output_type": "stream",
     "text": [
      "\n",
      "def calculate_rectangle_area(length, width):\n",
      "  area = length * width\n",
      "  return area\n",
      "\n",
      "length = 10 \n",
      "width = 5\n",
      "area = calculate_rectangle_area(length, width)\n",
      "print(\"The area of a rectangle with length\", length, \"and width\", width, \"is\", area)\n",
      "\n"
     ]
    }
   ],
   "source": [
    "\n",
    "match = re.search(r'```python(?P<code>.+)```', text, re.DOTALL)\n",
    "if match:\n",
    "    code = match.group('code')\n",
    "    print(code)"
   ]
  },
  {
   "cell_type": "code",
   "execution_count": 38,
   "metadata": {},
   "outputs": [
    {
     "name": "stdout",
     "output_type": "stream",
     "text": [
      "\n",
      "def calculate_rectangle_area(length, width):\n",
      "  area = length * width\n",
      "  return area\n",
      "\n",
      "length = 10 \n",
      "width = 5\n",
      "area = calculate_rectangle_area(length, width)\n",
      "print(\"The area of a rectangle with length\", length, \"and width\", width, \"is\", area)\n",
      "\n"
     ]
    }
   ],
   "source": [
    "print(code)"
   ]
  },
  {
   "cell_type": "code",
   "execution_count": 2,
   "metadata": {},
   "outputs": [
    {
     "name": "stdout",
     "output_type": "stream",
     "text": [
      "Overwriting math.py\n"
     ]
    }
   ],
   "source": [
    "%%writefile math.py\n",
    "print(code)"
   ]
  },
  {
   "cell_type": "code",
   "execution_count": 4,
   "metadata": {},
   "outputs": [],
   "source": [
    "import boto3"
   ]
  },
  {
   "cell_type": "code",
   "execution_count": 17,
   "metadata": {},
   "outputs": [],
   "source": [
    "s3 = boto3.client('s3')\n",
    "file_object = s3.list_objects(Bucket='genaibucketdemomumbai')\n",
    "for i in range(0,len(file_object[\"Contents\"])):\n",
    "    print(file_object[\"Contents\"][i][\"Key\"])"
   ]
  },
  {
   "cell_type": "code",
   "execution_count": 24,
   "metadata": {},
   "outputs": [
    {
     "name": "stdout",
     "output_type": "stream",
     "text": [
      "CIL_TA_Rules_Hindi_06032014.pdf\n",
      "KBalnce sheet.pdf\n"
     ]
    }
   ],
   "source": [
    "for i in range(0,len(file_object[\"Contents\"])):\n",
    "    print(file_object[\"Contents\"][i][\"Key\"])"
   ]
  },
  {
   "cell_type": "code",
   "execution_count": null,
   "metadata": {},
   "outputs": [],
   "source": []
  }
 ],
 "metadata": {
  "kernelspec": {
   "display_name": "Python 3",
   "language": "python",
   "name": "python3"
  },
  "language_info": {
   "codemirror_mode": {
    "name": "ipython",
    "version": 3
   },
   "file_extension": ".py",
   "mimetype": "text/x-python",
   "name": "python",
   "nbconvert_exporter": "python",
   "pygments_lexer": "ipython3",
   "version": "3.11.7"
  }
 },
 "nbformat": 4,
 "nbformat_minor": 2
}

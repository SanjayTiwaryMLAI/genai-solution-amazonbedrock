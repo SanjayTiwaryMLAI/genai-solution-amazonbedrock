{
 "cells": [
  {
   "cell_type": "code",
   "execution_count": 10,
   "metadata": {},
   "outputs": [],
   "source": [
    "import boto3\n",
    "import logging\n",
    "import time\n",
    "import urllib\n",
    "import json\n",
    "import textwrap\n",
    "import re\n",
    "import os\n",
    "\n",
    "logger = logging.getLogger()\n",
    "logger.setLevel(logging.INFO)\n",
    "    \n",
    "s3 = boto3.client('s3')\n",
    "teclient = boto3.client('textract')\n",
    "transcribe = boto3.client('transcribe')\n",
    "\n",
    "def get_file_name(s3url):\n",
    "    return s3url.split('/')[-1]\n",
    "\n",
    "def image_handler(bucket, key):\n",
    "    logger.info(\"Received Image File: %s\", key)\n",
    "    response = teclient.detect_document_text(\n",
    "        Document={'S3Object': {'Bucket': bucket, 'Name': key}})\n",
    "    text = ''\n",
    "    for item in response['Blocks']:\n",
    "        if item['BlockType'] == 'LINE':\n",
    "            text += item['Text'] + ' '\n",
    "    return text\n",
    "     \n",
    "def lambda_handler():\n",
    "    #logger.info(\"Received event: %s\" % json.dumps(event))\n",
    "    #s3Bucket = event.get(\"s3Bucket\")\n",
    "   #s3ObjectKey = event.get(\"s3ObjectKey\")\n",
    "    s3Bucket = \"amazonqmediabucket\"\n",
    "    s3ObjectKey = \"Yosemite.png\"\n",
    "    filename = os.path.basename(s3ObjectKey)\n",
    "    filename = filename.split(\".\")[0]\n",
    "\n",
    "    #metadata = event.get(\"metadata\")\n",
    "\n",
    "    \n",
    "    file_format = s3ObjectKey.lower().split('.')[-1]\n",
    "    if (file_format in [\"jpg\", \"png\"]):\n",
    "        afterCDE = image_handler(s3Bucket, s3ObjectKey)\n",
    "        filename = s3ObjectKey.split(\".\")[0]\n",
    "        new_key = 'cde_output/' + filename + '.txt'\n",
    "    else:\n",
    "        documentBeforeCDE = s3.get_object(Bucket = s3Bucket, Key = s3ObjectKey)\n",
    "        beforeCDE = documentBeforeCDE['Body'].read();\n",
    "        afterCDE = beforeCDE #Do Nothing for now\n",
    "        new_key = 'cde_output/' + filename\n",
    "    s3.put_object(Bucket = s3Bucket, Key = new_key, Body=afterCDE)\n",
    "    \n",
    "    return {\n",
    "        \"version\" : \"v0\",\n",
    "        \"s3ObjectKey\": filename,\n",
    "        \"metadataUpdates\": [],\n",
    "        \"body\":afterCDE\n",
    "    }\n"
   ]
  },
  {
   "cell_type": "code",
   "execution_count": 11,
   "metadata": {},
   "outputs": [
    {
     "data": {
      "text/plain": [
       "{'version': 'v0',\n",
       " 's3ObjectKey': 'Yosemite',\n",
       " 'metadataUpdates': [],\n",
       " 'body': 'Yosemite National Park Y From Wikipedia, the free encyclopedia Coordinates: 37°44\\'33\"N 119°3 \"Yosemite\" redirects here. For other uses, see Yosemite (disambiguation). Yosemite National Park (/jou\\'sem.i.ti/ yoh-SEM-ih-tee) [4][5] is an Yosemite National Park American national park in California, [6][7] surrounded on the southeast by IUCN category II (national park) Sierra National Forest and on the northwest by Stanislaus National Forest. The park is managed by the National Park Service and covers an area of 759,620 acres (1,187 sq mi; 3,074 km2(Superscript(2) and sits in four counties - centered in Tuolumne and Mariposa, extending north and east to Mono and south to Madera County. Designated a World Heritage Site in 1984, Yosemite is internationally recognized for its granite cliffs, waterfalls, clear streams, giant sequoia groves, lakes, mountains, meadows, glaciers, and biological diversity.[8] Almost 95% of the park is designated wilderness. [9] '}"
      ]
     },
     "execution_count": 11,
     "metadata": {},
     "output_type": "execute_result"
    }
   ],
   "source": [
    "lambda_handler()"
   ]
  },
  {
   "cell_type": "code",
   "execution_count": null,
   "metadata": {},
   "outputs": [
    {
     "name": "stdout",
     "output_type": "stream",
     "text": [
      "Unable to download and save PDF from https://aws.amazon.com/sagemaker/\n"
     ]
    }
   ],
   "source": [
    "import pdfkit\n",
    "import urllib.request\n",
    "\n",
    "url = \"https://aws.amazon.com/sagemaker/\"\n",
    "\n",
    "try:\n",
    "    response = urllib.request.urlopen(url)\n",
    "    html = response.read()\n",
    "    \n",
    "    pdf_file = \"website.pdf\"\n",
    "    pdfkit.from_string(html, pdf_file)\n",
    "    \n",
    "    print(\"Successfully downloaded and saved PDF to\", pdf_file)\n",
    "\n",
    "except:\n",
    "    print(\"Unable to download and save PDF from\", url)"
   ]
  },
  {
   "cell_type": "code",
   "execution_count": null,
   "metadata": {},
   "outputs": [],
   "source": [
    "s3ObjectKey = \"qkcmiwfbQQQ-QWS/MM\""
   ]
  },
  {
   "cell_type": "code",
   "execution_count": null,
   "metadata": {},
   "outputs": [
    {
     "data": {
      "text/plain": [
       "'qkcmiwfbqqq-qws/mm'"
      ]
     },
     "execution_count": 14,
     "metadata": {},
     "output_type": "execute_result"
    }
   ],
   "source": [
    "s3ObjectKey.lower()"
   ]
  },
  {
   "cell_type": "code",
   "execution_count": 12,
   "metadata": {},
   "outputs": [],
   "source": [
    "def image_handler(bucket, key):\n",
    "    logger.info(\"Received Image File: %s\", key)\n",
    "    response = teclient.detect_document_text(\n",
    "        Document={'S3Object': {'Bucket': bucket, 'Name': key}})\n",
    "    text = ''\n",
    "    for item in response['Blocks']:\n",
    "        if item['BlockType'] == 'LINE':\n",
    "            text += item['Text'] + ' '\n",
    "    return text"
   ]
  },
  {
   "cell_type": "code",
   "execution_count": 23,
   "metadata": {},
   "outputs": [],
   "source": [
    "import json\n",
    "import boto3\n",
    "     \n",
    "s3 = boto3.client(\"s3\")\n",
    "\n",
    "def image_handler(bucket, key):\n",
    "    logger.info(\"Received Image File: %s\", key)\n",
    "    response = teclient.detect_document_text(\n",
    "        Document={'S3Object': {'Bucket': bucket, 'Name': key}})\n",
    "    text = ''\n",
    "    for item in response['Blocks']:\n",
    "        if item['BlockType'] == 'LINE':\n",
    "            text += item['Text'] + ' '\n",
    "    return text\n",
    "\n",
    "\n",
    "# Lambda function for advanced data manipulation    \n",
    "def lambda_handler(event, context):\n",
    "    # Get the value of \"S3Bucket\" key name or item from the given event input\n",
    "    s3_bucket = event.get(\"s3Bucket\")\n",
    "    # Get the value of \"S3ObjectKey\" key name or item from the given event input\n",
    "    s3_object_key = event.get(\"s3ObjectKey\")\n",
    "    \n",
    "    #s3Bucket = \"amazonqmediabucket\"\n",
    "    #s3ObjectKey = \"Yosemite.png\"\n",
    "\n",
    "    #content_object_before_DE = s3.get_object(Bucket = s3Bucket, Key = s3ObjectKey)\n",
    "    #content_before_DE = content_object_before_DE[\"Body\"].read().decode(\"utf-8\")\n",
    "    afterCDE = image_handler(s3_bucket, s3_object_key)\n",
    "    #content_after_DE = afterCDE + content_before_DE\n",
    "    \n",
    "    # Get the value of \"metadata\" key name or item from the given event input\n",
    "    #metadata = event.get(\"metadata\")\n",
    "    # Get the document \"attributes\" from the metadata \n",
    "    #document_attributes = metadata.get(\"attributes\")\n",
    "    \n",
    "    s3.put_object(Bucket = s3_bucket, Key = \"dummy_updated_qbusiness_document\", Body=json.dumps(afterCDE))\n",
    "    return {\n",
    "        \"version\": afterCDE,\n",
    "        \"s3ObjectKey\": \"dummy_updated_qbusiness_document\",\n",
    "        \"metadataUpdates\": [\n",
    "            {\"name\":\"_document_title\", \"value\":{\"stringValue\":\"title_from_pre_extraction_lambda\"}},\n",
    "            {\"name\":\"_authors\", \"value\":{\"stringListValue\":[\"author1\", \"author2\"]}}\n",
    "        ]\n",
    "    }"
   ]
  },
  {
   "cell_type": "code",
   "execution_count": 24,
   "metadata": {},
   "outputs": [
    {
     "data": {
      "text/plain": [
       "{'version': 'Yosemite National Park Y From Wikipedia, the free encyclopedia Coordinates: 37°44\\'33\"N 119°3 \"Yosemite\" redirects here. For other uses, see Yosemite (disambiguation). Yosemite National Park (/jou\\'sem.i.ti/ yoh-SEM-ih-tee) [4][5] is an Yosemite National Park American national park in California, [6][7] surrounded on the southeast by IUCN category II (national park) Sierra National Forest and on the northwest by Stanislaus National Forest. The park is managed by the National Park Service and covers an area of 759,620 acres (1,187 sq mi; 3,074 km2(Superscript(2) and sits in four counties - centered in Tuolumne and Mariposa, extending north and east to Mono and south to Madera County. Designated a World Heritage Site in 1984, Yosemite is internationally recognized for its granite cliffs, waterfalls, clear streams, giant sequoia groves, lakes, mountains, meadows, glaciers, and biological diversity.[8] Almost 95% of the park is designated wilderness. [9] ',\n",
       " 's3ObjectKey': 'dummy_updated_qbusiness_document',\n",
       " 'metadataUpdates': [{'name': '_document_title',\n",
       "   'value': {'stringValue': 'title_from_pre_extraction_lambda'}},\n",
       "  {'name': '_authors', 'value': {'stringListValue': ['author1', 'author2']}}]}"
      ]
     },
     "execution_count": 24,
     "metadata": {},
     "output_type": "execute_result"
    }
   ],
   "source": [
    "lambda_handler()"
   ]
  },
  {
   "cell_type": "code",
   "execution_count": null,
   "metadata": {},
   "outputs": [],
   "source": []
  }
 ],
 "metadata": {
  "kernelspec": {
   "display_name": "Python 3",
   "language": "python",
   "name": "python3"
  },
  "language_info": {
   "codemirror_mode": {
    "name": "ipython",
    "version": 3
   },
   "file_extension": ".py",
   "mimetype": "text/x-python",
   "name": "python",
   "nbconvert_exporter": "python",
   "pygments_lexer": "ipython3",
   "version": "3.11.7"
  }
 },
 "nbformat": 4,
 "nbformat_minor": 2
}
